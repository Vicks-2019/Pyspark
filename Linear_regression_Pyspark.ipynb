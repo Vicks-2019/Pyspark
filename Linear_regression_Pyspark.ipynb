{
  "nbformat": 4,
  "nbformat_minor": 0,
  "metadata": {
    "colab": {
      "name": "Linear_regression_Pyspark.ipynb",
      "provenance": [],
      "authorship_tag": "ABX9TyM+uuL2pUQr5IUrSgPYrQpi",
      "include_colab_link": true
    },
    "kernelspec": {
      "name": "python3",
      "display_name": "Python 3"
    }
  },
  "cells": [
    {
      "cell_type": "markdown",
      "metadata": {
        "id": "view-in-github",
        "colab_type": "text"
      },
      "source": [
        "<a href=\"https://colab.research.google.com/github/Vicks-2019/Pyspark/blob/main/Linear_regression_Pyspark.ipynb\" target=\"_parent\"><img src=\"https://colab.research.google.com/assets/colab-badge.svg\" alt=\"Open In Colab\"/></a>"
      ]
    },
    {
      "cell_type": "code",
      "metadata": {
        "id": "kF4MgRjwdo_D",
        "outputId": "3b2bed76-3a18-4f50-cd94-26a73bf5a5ca",
        "colab": {
          "base_uri": "https://localhost:8080/",
          "height": 363
        }
      },
      "source": [
        "!apt-get update\n",
        "!apt-get install openjdk-8-jdk-headless -qq > /dev/null\n",
        "!wget -q http://archive.apache.org/dist/spark/spark-2.4.4/spark-2.4.4-bin-hadoop2.7.tgz\n",
        "!tar xf spark-2.4.4-bin-hadoop2.7.tgz\n",
        "!pip install -q findspark"
      ],
      "execution_count": 1,
      "outputs": [
        {
          "output_type": "stream",
          "text": [
            "\r0% [Working]\r            \rGet:1 http://security.ubuntu.com/ubuntu bionic-security InRelease [88.7 kB]\n",
            "\r0% [Connecting to archive.ubuntu.com (91.189.88.142)] [1 InRelease 14.2 kB/88.7\r0% [Waiting for headers] [Waiting for headers] [Waiting for headers] [Waiting f\r                                                                               \rGet:2 https://cloud.r-project.org/bin/linux/ubuntu bionic-cran40/ InRelease [3,626 B]\n",
            "\r                                                                               \r0% [Waiting for headers] [Waiting for headers] [Waiting for headers]\r0% [1 InRelease gpgv 88.7 kB] [Waiting for headers] [Waiting for headers] [Wait\r                                                                               \rIgn:3 https://developer.download.nvidia.com/compute/cuda/repos/ubuntu1804/x86_64  InRelease\n",
            "\r0% [1 InRelease gpgv 88.7 kB] [Waiting for headers] [Waiting for headers] [Wait\r                                                                               \rHit:4 http://archive.ubuntu.com/ubuntu bionic InRelease\n",
            "\r0% [1 InRelease gpgv 88.7 kB] [Waiting for headers] [Waiting for headers] [Wait\r                                                                               \rGet:5 http://ppa.launchpad.net/c2d4u.team/c2d4u4.0+/ubuntu bionic InRelease [15.9 kB]\n",
            "\r0% [1 InRelease gpgv 88.7 kB] [Waiting for headers] [5 InRelease 14.2 kB/15.9 k\r                                                                               \rIgn:6 https://developer.download.nvidia.com/compute/machine-learning/repos/ubuntu1804/x86_64  InRelease\n",
            "\r0% [1 InRelease gpgv 88.7 kB] [Waiting for headers] [5 InRelease 14.2 kB/15.9 k\r                                                                               \rHit:7 https://developer.download.nvidia.com/compute/cuda/repos/ubuntu1804/x86_64  Release\n",
            "\r0% [1 InRelease gpgv 88.7 kB] [Waiting for headers] [5 InRelease 14.2 kB/15.9 k\r                                                                               \rHit:8 https://developer.download.nvidia.com/compute/machine-learning/repos/ubuntu1804/x86_64  Release\n",
            "Get:9 http://archive.ubuntu.com/ubuntu bionic-updates InRelease [88.7 kB]\n",
            "Get:10 http://security.ubuntu.com/ubuntu bionic-security/universe amd64 Packages [1,340 kB]\n",
            "Hit:11 http://ppa.launchpad.net/graphics-drivers/ppa/ubuntu bionic InRelease\n",
            "Get:12 http://security.ubuntu.com/ubuntu bionic-security/main amd64 Packages [1,693 kB]\n",
            "Get:13 http://archive.ubuntu.com/ubuntu bionic-backports InRelease [74.6 kB]\n",
            "Get:16 http://ppa.launchpad.net/c2d4u.team/c2d4u4.0+/ubuntu bionic/main Sources [1,675 kB]\n",
            "Get:17 http://archive.ubuntu.com/ubuntu bionic-updates/main amd64 Packages [2,111 kB]\n",
            "Get:18 http://archive.ubuntu.com/ubuntu bionic-updates/universe amd64 Packages [2,104 kB]\n",
            "Get:19 http://ppa.launchpad.net/c2d4u.team/c2d4u4.0+/ubuntu bionic/main amd64 Packages [857 kB]\n",
            "Fetched 10.1 MB in 3s (3,230 kB/s)\n",
            "Reading package lists... Done\n"
          ],
          "name": "stdout"
        }
      ]
    },
    {
      "cell_type": "code",
      "metadata": {
        "id": "fbvZYtBNdrvb"
      },
      "source": [
        "import os\n",
        "os.environ[\"JAVA_HOME\"] = \"/usr/lib/jvm/java-8-openjdk-amd64\"\n",
        "os.environ[\"SPARK_HOME\"] = \"/content/spark-2.4.4-bin-hadoop2.7\""
      ],
      "execution_count": 2,
      "outputs": []
    },
    {
      "cell_type": "code",
      "metadata": {
        "id": "fLFn1xStd0Wf"
      },
      "source": [
        "# 3. Start Spark Session\n",
        "import findspark\n",
        "findspark.init()\n",
        "from pyspark.sql import SparkSession\n",
        "spark = SparkSession.builder.master(\"local[*]\").getOrCreate()"
      ],
      "execution_count": 3,
      "outputs": []
    },
    {
      "cell_type": "code",
      "metadata": {
        "id": "pAl5v2fEe_tF",
        "outputId": "631635f5-c9c1-465e-bf3a-42a759e39eef",
        "colab": {
          "resources": {
            "http://localhost:8080/nbextensions/google.colab/files.js": {
              "data": "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",
              "ok": true,
              "headers": [
                [
                  "content-type",
                  "application/javascript"
                ]
              ],
              "status": 200,
              "status_text": ""
            }
          },
          "base_uri": "https://localhost:8080/",
          "height": 111
        }
      },
      "source": [
        "from google.colab import files\n",
        "files.upload()\n"
      ],
      "execution_count": 4,
      "outputs": [
        {
          "output_type": "display_data",
          "data": {
            "text/html": [
              "\n",
              "     <input type=\"file\" id=\"files-06f6073d-9003-4ab3-aa82-8fdcebd2c32f\" name=\"files[]\" multiple disabled\n",
              "        style=\"border:none\" />\n",
              "     <output id=\"result-06f6073d-9003-4ab3-aa82-8fdcebd2c32f\">\n",
              "      Upload widget is only available when the cell has been executed in the\n",
              "      current browser session. Please rerun this cell to enable.\n",
              "      </output>\n",
              "      <script src=\"/nbextensions/google.colab/files.js\"></script> "
            ],
            "text/plain": [
              "<IPython.core.display.HTML object>"
            ]
          },
          "metadata": {
            "tags": []
          }
        },
        {
          "output_type": "stream",
          "text": [
            "Saving Restaurant.csv to Restaurant.csv\n"
          ],
          "name": "stdout"
        },
        {
          "output_type": "execute_result",
          "data": {
            "text/plain": [
              "{'Restaurant.csv': b'Miscellaneous_Expenses,Food_Innovation_Spend,Advertising,City,Profit\\r\\n138671.8,167497.2,475918.1,Chicago,202443.83\\r\\n153151.59,164745.7,448032.53,Mumbai,201974.06\\r\\n102919.55,155589.51,412068.54,Tokyo,201232.39\\r\\n120445.85,146520.41,387333.62,Chicago,193083.99\\r\\n93165.77,144255.34,370302.42,Tokyo,176369.94\\r\\n101588.71,134024.9,366995.36,Chicago,167173.12\\r\\n148972.87,136763.46,131850.82,Mumbai,166304.51\\r\\n147304.06,132446.13,328010.68,Tokyo,165934.6\\r\\n150492.95,122690.52,315747.29,Chicago,162393.77\\r\\n110453.17,125482.88,309115.62,Mumbai,159941.96\\r\\n112368.11,104061.08,233294.95,Tokyo,156303.95\\r\\n93564.61,102819.96,253878.55,Mumbai,154441.4\\r\\n129094.38,96011.75,253973.44,Tokyo,151767.52\\r\\n137269.07,94140.39,256798.93,Mumbai,144489.35\\r\\n158321.42,122091.24,260646.92,Tokyo,142784.65\\r\\n124390.84,116671.61,265910.23,Chicago,140099.04\\r\\n123371.55,80161.11,268480.06,Mumbai,137174.93\\r\\n146851.58,96805.16,286708.31,Chicago,135552.37\\r\\n115949.79,93897.16,299053.57,Tokyo,134448.9\\r\\n155288.11,88567.7,4134,Chicago,132958.86\\r\\n115641.3,78401.86,302798.47,Mumbai,128656.03\\r\\n155547.43,80537.47,303871.29,Chicago,121495.02\\r\\n124556.75,76142.56,307453.26,Tokyo,120534.25\\r\\n107525.03,69680.53,308902.73,Tokyo,118915.99\\r\\n101055.34,79192.01,144708.81,Chicago,118734.04\\r\\n141327.16,66812.71,142096.62,Mumbai,117586.34\\r\\n145909.98,77476.87,138184.07,Tokyo,115915.54\\r\\n129638.55,74255.6,357317.81,Chicago,115190.31\\r\\n184419.56,68199.52,122282.2,Tokyo,113464.38\\r\\n154806.06,67753.48,111272.38,Chicago,111186.64\\r\\n117415.28,64142.48,95265.24,Tokyo,110119.59\\r\\n154475.92,63284.38,92352.23,Chicago,107665.56\\r\\n130993.61,65556.86,50219.25,Mumbai,107609.84\\r\\n104831.49,57641.95,218768.81,Tokyo,106960.92\\r\\n159467.92,48574.07,214931.67,Mumbai,106894.8\\r\\n86821.44,48162.02,209651.64,Chicago,106661.51\\r\\n128830.21,30811.76,205260.82,Tokyo,100890.19\\r\\n53057.14,46217.95,201163.42,Mumbai,100131.14\\r\\n67721.93,22377.59,189399.1,Chicago,91411.06\\r\\n84756.09,40706.51,179133.3,Mumbai,91187.76\\r\\n120320.05,30902.33,176929.67,Mumbai,88421.91\\r\\n86484.77,30040.92,168604.71,Tokyo,87980.83\\r\\n97963.63,25788.93,152135.11,Mumbai,81680.49\\r\\n129156.3,17653.73,39668.17,Chicago,79940.98\\r\\n156580.14,24325.74,32468.72,Mumbai,75382.33\\r\\n125927.04,3148.23,6037.93,Chicago,75108.08\\r\\n117590.21,3463.46,301248.46,Tokyo,59672.75\\r\\n137200.92,2148,4134,Mumbai,52741.73\\r\\n53517.15,2690.05,4134,Chicago,45855.41\\r\\n118757.8,2148,49307.06,Mumbai,24863.4\\r\\n'}"
            ]
          },
          "metadata": {
            "tags": []
          },
          "execution_count": 4
        }
      ]
    },
    {
      "cell_type": "code",
      "metadata": {
        "id": "s3HGdRg8fBcP"
      },
      "source": [
        "\n",
        "#Loading the Student_Grades_Data.csv file, uploaded in previous step\n",
        "data = spark.read.csv('Restaurant.csv', header=True, inferSchema=True)"
      ],
      "execution_count": 6,
      "outputs": []
    },
    {
      "cell_type": "code",
      "metadata": {
        "id": "2xhfr3ECfLvA",
        "outputId": "8b1f15fa-f28a-4915-87d5-0a168221f96b",
        "colab": {
          "base_uri": "https://localhost:8080/",
          "height": 145
        }
      },
      "source": [
        "\n",
        "#Taking a look at data type of each column to see what data types inferSchema=TRUE paramter has set for each column\n",
        "data.printSchema()"
      ],
      "execution_count": 7,
      "outputs": [
        {
          "output_type": "stream",
          "text": [
            "root\n",
            " |-- Miscellaneous_Expenses: double (nullable = true)\n",
            " |-- Food_Innovation_Spend: double (nullable = true)\n",
            " |-- Advertising: double (nullable = true)\n",
            " |-- City: string (nullable = true)\n",
            " |-- Profit: double (nullable = true)\n",
            "\n"
          ],
          "name": "stdout"
        }
      ]
    },
    {
      "cell_type": "code",
      "metadata": {
        "id": "ZcXL9z-QfZx6",
        "outputId": "0e9f12e2-53a8-48f6-fd87-a0f57e6fe673",
        "colab": {
          "base_uri": "https://localhost:8080/",
          "height": 490
        }
      },
      "source": [
        "#Display first few rows of data\n",
        "data.show()"
      ],
      "execution_count": 8,
      "outputs": [
        {
          "output_type": "stream",
          "text": [
            "+----------------------+---------------------+-----------+-------+---------+\n",
            "|Miscellaneous_Expenses|Food_Innovation_Spend|Advertising|   City|   Profit|\n",
            "+----------------------+---------------------+-----------+-------+---------+\n",
            "|              138671.8|             167497.2|   475918.1|Chicago|202443.83|\n",
            "|             153151.59|             164745.7|  448032.53| Mumbai|201974.06|\n",
            "|             102919.55|            155589.51|  412068.54|  Tokyo|201232.39|\n",
            "|             120445.85|            146520.41|  387333.62|Chicago|193083.99|\n",
            "|              93165.77|            144255.34|  370302.42|  Tokyo|176369.94|\n",
            "|             101588.71|             134024.9|  366995.36|Chicago|167173.12|\n",
            "|             148972.87|            136763.46|  131850.82| Mumbai|166304.51|\n",
            "|             147304.06|            132446.13|  328010.68|  Tokyo| 165934.6|\n",
            "|             150492.95|            122690.52|  315747.29|Chicago|162393.77|\n",
            "|             110453.17|            125482.88|  309115.62| Mumbai|159941.96|\n",
            "|             112368.11|            104061.08|  233294.95|  Tokyo|156303.95|\n",
            "|              93564.61|            102819.96|  253878.55| Mumbai| 154441.4|\n",
            "|             129094.38|             96011.75|  253973.44|  Tokyo|151767.52|\n",
            "|             137269.07|             94140.39|  256798.93| Mumbai|144489.35|\n",
            "|             158321.42|            122091.24|  260646.92|  Tokyo|142784.65|\n",
            "|             124390.84|            116671.61|  265910.23|Chicago|140099.04|\n",
            "|             123371.55|             80161.11|  268480.06| Mumbai|137174.93|\n",
            "|             146851.58|             96805.16|  286708.31|Chicago|135552.37|\n",
            "|             115949.79|             93897.16|  299053.57|  Tokyo| 134448.9|\n",
            "|             155288.11|              88567.7|     4134.0|Chicago|132958.86|\n",
            "+----------------------+---------------------+-----------+-------+---------+\n",
            "only showing top 20 rows\n",
            "\n"
          ],
          "name": "stdout"
        }
      ]
    },
    {
      "cell_type": "code",
      "metadata": {
        "id": "zMLOHMPffcwm",
        "outputId": "8ee76250-e26a-4e4c-c755-04a7b94ed893",
        "colab": {
          "base_uri": "https://localhost:8080/",
          "height": 108
        }
      },
      "source": [
        "#Display data types of the data columns.\n",
        "data.dtypes"
      ],
      "execution_count": 9,
      "outputs": [
        {
          "output_type": "execute_result",
          "data": {
            "text/plain": [
              "[('Miscellaneous_Expenses', 'double'),\n",
              " ('Food_Innovation_Spend', 'double'),\n",
              " ('Advertising', 'double'),\n",
              " ('City', 'string'),\n",
              " ('Profit', 'double')]"
            ]
          },
          "metadata": {
            "tags": []
          },
          "execution_count": 9
        }
      ]
    },
    {
      "cell_type": "code",
      "metadata": {
        "id": "3V3iUKztfhQu",
        "outputId": "0706b5ee-df73-4ba2-b71c-23686f0c2d95",
        "colab": {
          "base_uri": "https://localhost:8080/",
          "height": 54
        }
      },
      "source": [
        "\n",
        "#Create features storing categorical & numerical variables, omitting the last column\n",
        "categorical_cols = [item[0] for item in data.dtypes if item[1].startswith('string')]\n",
        "print(categorical_cols)\n",
        "\n",
        "numerical_cols = [item[0] for item in data.dtypes if item[1].startswith('int') | item[1].startswith('double')][:-1]\n",
        "print(numerical_cols)"
      ],
      "execution_count": 10,
      "outputs": [
        {
          "output_type": "stream",
          "text": [
            "['City']\n",
            "['Miscellaneous_Expenses', 'Food_Innovation_Spend', 'Advertising']\n"
          ],
          "name": "stdout"
        }
      ]
    },
    {
      "cell_type": "code",
      "metadata": {
        "id": "ALXjeIRhfrFw",
        "outputId": "85de3c3b-6b70-4ab7-c997-31586966bbd6",
        "colab": {
          "base_uri": "https://localhost:8080/",
          "height": 54
        }
      },
      "source": [
        "\n",
        "#Print number of categorical as well as numerical features.\n",
        "print(str(len(categorical_cols)) + '  categorical features')\n",
        "print(str(len(numerical_cols)) + '  numerical features')"
      ],
      "execution_count": 11,
      "outputs": [
        {
          "output_type": "stream",
          "text": [
            "1  categorical features\n",
            "3  numerical features\n"
          ],
          "name": "stdout"
        }
      ]
    },
    {
      "cell_type": "code",
      "metadata": {
        "id": "WSlWBi3xgHI_"
      },
      "source": [
        "from pyspark.ml.feature import StringIndexer, OneHotEncoderEstimator, VectorAssembler\n",
        "stages = []\n",
        "for categoricalCol in categorical_cols:\n",
        "    stringIndexer = StringIndexer(inputCol = categoricalCol, outputCol = categoricalCol + 'Index')\n",
        "    OHencoder = OneHotEncoderEstimator(inputCols=[stringIndexer.getOutputCol()], outputCols=[categoricalCol + \"_catVec\"])\n",
        "stages += [stringIndexer, OHencoder]\n",
        "assemblerInputs = [c + \"_catVec\" for c in categorical_cols] + numerical_cols\n",
        "Vectassembler = VectorAssembler(inputCols=assemblerInputs, outputCol=\"features\")\n",
        "stages += [Vectassembler]"
      ],
      "execution_count": 12,
      "outputs": []
    },
    {
      "cell_type": "code",
      "metadata": {
        "id": "UwXsfkzzg5TL"
      },
      "source": [
        "import pandas as pd"
      ],
      "execution_count": 15,
      "outputs": []
    },
    {
      "cell_type": "code",
      "metadata": {
        "id": "H-x6U3cggaLY",
        "outputId": "d8eef627-48be-497b-fddf-130f9d16aec5",
        "colab": {
          "base_uri": "https://localhost:8080/",
          "height": 510
        }
      },
      "source": [
        "# Using a Spark MLLib pipeline to apply all the stages of transformation\n",
        "from pyspark.ml import Pipeline\n",
        "cols = data.columns\n",
        "pipeline = Pipeline(stages = stages)\n",
        "pipelineModel = pipeline.fit(data)\n",
        "\n",
        "\n",
        "data.show()\n"
      ],
      "execution_count": 24,
      "outputs": [
        {
          "output_type": "stream",
          "text": [
            "+--------------------+--------------------+--------------------+--------------------+----------------------+---------------------+-----------+-------+---------+\n",
            "|            features|            features|            features|            features|Miscellaneous_Expenses|Food_Innovation_Spend|Advertising|   City|   Profit|\n",
            "+--------------------+--------------------+--------------------+--------------------+----------------------+---------------------+-----------+-------+---------+\n",
            "|[1.0,0.0,138671.8...|[1.0,0.0,138671.8...|[1.0,0.0,138671.8...|[1.0,0.0,138671.8...|              138671.8|             167497.2|   475918.1|Chicago|202443.83|\n",
            "|[0.0,1.0,153151.5...|[0.0,1.0,153151.5...|[0.0,1.0,153151.5...|[0.0,1.0,153151.5...|             153151.59|             164745.7|  448032.53| Mumbai|201974.06|\n",
            "|[0.0,0.0,102919.5...|[0.0,0.0,102919.5...|[0.0,0.0,102919.5...|[0.0,0.0,102919.5...|             102919.55|            155589.51|  412068.54|  Tokyo|201232.39|\n",
            "|[1.0,0.0,120445.8...|[1.0,0.0,120445.8...|[1.0,0.0,120445.8...|[1.0,0.0,120445.8...|             120445.85|            146520.41|  387333.62|Chicago|193083.99|\n",
            "|[0.0,0.0,93165.77...|[0.0,0.0,93165.77...|[0.0,0.0,93165.77...|[0.0,0.0,93165.77...|              93165.77|            144255.34|  370302.42|  Tokyo|176369.94|\n",
            "|[1.0,0.0,101588.7...|[1.0,0.0,101588.7...|[1.0,0.0,101588.7...|[1.0,0.0,101588.7...|             101588.71|             134024.9|  366995.36|Chicago|167173.12|\n",
            "|[0.0,1.0,148972.8...|[0.0,1.0,148972.8...|[0.0,1.0,148972.8...|[0.0,1.0,148972.8...|             148972.87|            136763.46|  131850.82| Mumbai|166304.51|\n",
            "|[0.0,0.0,147304.0...|[0.0,0.0,147304.0...|[0.0,0.0,147304.0...|[0.0,0.0,147304.0...|             147304.06|            132446.13|  328010.68|  Tokyo| 165934.6|\n",
            "|[1.0,0.0,150492.9...|[1.0,0.0,150492.9...|[1.0,0.0,150492.9...|[1.0,0.0,150492.9...|             150492.95|            122690.52|  315747.29|Chicago|162393.77|\n",
            "|[0.0,1.0,110453.1...|[0.0,1.0,110453.1...|[0.0,1.0,110453.1...|[0.0,1.0,110453.1...|             110453.17|            125482.88|  309115.62| Mumbai|159941.96|\n",
            "|[0.0,0.0,112368.1...|[0.0,0.0,112368.1...|[0.0,0.0,112368.1...|[0.0,0.0,112368.1...|             112368.11|            104061.08|  233294.95|  Tokyo|156303.95|\n",
            "|[0.0,1.0,93564.61...|[0.0,1.0,93564.61...|[0.0,1.0,93564.61...|[0.0,1.0,93564.61...|              93564.61|            102819.96|  253878.55| Mumbai| 154441.4|\n",
            "|[0.0,0.0,129094.3...|[0.0,0.0,129094.3...|[0.0,0.0,129094.3...|[0.0,0.0,129094.3...|             129094.38|             96011.75|  253973.44|  Tokyo|151767.52|\n",
            "|[0.0,1.0,137269.0...|[0.0,1.0,137269.0...|[0.0,1.0,137269.0...|[0.0,1.0,137269.0...|             137269.07|             94140.39|  256798.93| Mumbai|144489.35|\n",
            "|[0.0,0.0,158321.4...|[0.0,0.0,158321.4...|[0.0,0.0,158321.4...|[0.0,0.0,158321.4...|             158321.42|            122091.24|  260646.92|  Tokyo|142784.65|\n",
            "|[1.0,0.0,124390.8...|[1.0,0.0,124390.8...|[1.0,0.0,124390.8...|[1.0,0.0,124390.8...|             124390.84|            116671.61|  265910.23|Chicago|140099.04|\n",
            "|[0.0,1.0,123371.5...|[0.0,1.0,123371.5...|[0.0,1.0,123371.5...|[0.0,1.0,123371.5...|             123371.55|             80161.11|  268480.06| Mumbai|137174.93|\n",
            "|[1.0,0.0,146851.5...|[1.0,0.0,146851.5...|[1.0,0.0,146851.5...|[1.0,0.0,146851.5...|             146851.58|             96805.16|  286708.31|Chicago|135552.37|\n",
            "|[0.0,0.0,115949.7...|[0.0,0.0,115949.7...|[0.0,0.0,115949.7...|[0.0,0.0,115949.7...|             115949.79|             93897.16|  299053.57|  Tokyo| 134448.9|\n",
            "|[1.0,0.0,155288.1...|[1.0,0.0,155288.1...|[1.0,0.0,155288.1...|[1.0,0.0,155288.1...|             155288.11|              88567.7|     4134.0|Chicago|132958.86|\n",
            "+--------------------+--------------------+--------------------+--------------------+----------------------+---------------------+-----------+-------+---------+\n",
            "only showing top 20 rows\n",
            "\n"
          ],
          "name": "stdout"
        }
      ]
    },
    {
      "cell_type": "code",
      "metadata": {
        "id": "G9_WDh6Gggkg",
        "outputId": "c553b1f5-d9fa-4887-e102-b44ed04ec22a",
        "colab": {
          "base_uri": "https://localhost:8080/",
          "height": 490
        }
      },
      "source": [
        "finalized_data = data.select(\"features\",\"Profit\")\n",
        "\n",
        "finalized_data.show()"
      ],
      "execution_count": 25,
      "outputs": [
        {
          "output_type": "stream",
          "text": [
            "+--------------------+---------+\n",
            "|            features|   Profit|\n",
            "+--------------------+---------+\n",
            "|[1.0,0.0,138671.8...|202443.83|\n",
            "|[0.0,1.0,153151.5...|201974.06|\n",
            "|[0.0,0.0,102919.5...|201232.39|\n",
            "|[1.0,0.0,120445.8...|193083.99|\n",
            "|[0.0,0.0,93165.77...|176369.94|\n",
            "|[1.0,0.0,101588.7...|167173.12|\n",
            "|[0.0,1.0,148972.8...|166304.51|\n",
            "|[0.0,0.0,147304.0...| 165934.6|\n",
            "|[1.0,0.0,150492.9...|162393.77|\n",
            "|[0.0,1.0,110453.1...|159941.96|\n",
            "|[0.0,0.0,112368.1...|156303.95|\n",
            "|[0.0,1.0,93564.61...| 154441.4|\n",
            "|[0.0,0.0,129094.3...|151767.52|\n",
            "|[0.0,1.0,137269.0...|144489.35|\n",
            "|[0.0,0.0,158321.4...|142784.65|\n",
            "|[1.0,0.0,124390.8...|140099.04|\n",
            "|[0.0,1.0,123371.5...|137174.93|\n",
            "|[1.0,0.0,146851.5...|135552.37|\n",
            "|[0.0,0.0,115949.7...| 134448.9|\n",
            "|[1.0,0.0,155288.1...|132958.86|\n",
            "+--------------------+---------+\n",
            "only showing top 20 rows\n",
            "\n"
          ],
          "name": "stdout"
        }
      ]
    },
    {
      "cell_type": "code",
      "metadata": {
        "id": "oMN6lDtomJnR"
      },
      "source": [
        "\n",
        "#Split the data into training and test model with 70% obs. going in training and 30% in testing\n",
        "train_dataset, test_dataset = finalized_data.randomSplit([0.7, 0.3])"
      ],
      "execution_count": 26,
      "outputs": []
    },
    {
      "cell_type": "code",
      "metadata": {
        "id": "gJ9WdjZcmOjN"
      },
      "source": [
        "\n",
        "#Import Linear Regression class called LinearRegression\n",
        "from pyspark.ml.regression import LinearRegression"
      ],
      "execution_count": 27,
      "outputs": []
    },
    {
      "cell_type": "code",
      "metadata": {
        "id": "dRD7A0_NmRCh"
      },
      "source": [
        "\n",
        "#Create the Multiple Linear Regression object named MLR having feature column as features and Label column as Profit\n",
        "MLR = LinearRegression(featuresCol=\"features\", labelCol=\"Profit\")"
      ],
      "execution_count": 28,
      "outputs": []
    },
    {
      "cell_type": "code",
      "metadata": {
        "id": "3BLJiK1RmTzT"
      },
      "source": [
        "\n",
        "#Train the model on the training using fit() method.\n",
        "model = MLR.fit(train_dataset)"
      ],
      "execution_count": 29,
      "outputs": []
    },
    {
      "cell_type": "code",
      "metadata": {
        "id": "aQCkx145mZCb"
      },
      "source": [
        "#Predict the Profit on Test Dataset using the evulate method\n",
        "pred = model.evaluate(test_dataset)"
      ],
      "execution_count": 30,
      "outputs": []
    },
    {
      "cell_type": "code",
      "metadata": {
        "id": "aG1uNkhtmcjH",
        "outputId": "47a2e278-0f60-420e-af64-bdb4a2330010",
        "colab": {
          "base_uri": "https://localhost:8080/",
          "height": 435
        }
      },
      "source": [
        "#Show the predicted Grade values along side actual Grade values\n",
        "pred.predictions.show()"
      ],
      "execution_count": 31,
      "outputs": [
        {
          "output_type": "stream",
          "text": [
            "+--------------------+---------+------------------+\n",
            "|            features|   Profit|        prediction|\n",
            "+--------------------+---------+------------------+\n",
            "|[0.0,0.0,102919.5...|201232.39|185478.87038877717|\n",
            "|[0.0,0.0,107525.0...|118915.99|117861.96290486341|\n",
            "|[0.0,0.0,112368.1...|156303.95|142948.79197064997|\n",
            "|[0.0,0.0,115949.7...| 134448.9|136613.98396612404|\n",
            "|[0.0,0.0,117415.2...|110119.59|109904.44885051208|\n",
            "|[0.0,0.0,145909.9...|115915.54|122284.82732185622|\n",
            "|[0.0,1.0,93564.61...| 154441.4|145747.01587615997|\n",
            "|[0.0,1.0,97963.63...| 81680.49| 84949.71733255673|\n",
            "|[0.0,1.0,110453.1...|159941.96| 164974.6010750897|\n",
            "|[0.0,1.0,118757.8...|  24863.4| 65796.52742732184|\n",
            "|[0.0,1.0,130993.6...|107609.84|114961.48567158589|\n",
            "|[0.0,1.0,137200.9...| 52741.73| 65772.04092446556|\n",
            "|[0.0,1.0,156580.1...| 75382.33| 84218.09304114265|\n",
            "|[1.0,0.0,67721.93...| 91411.06| 75953.40010224747|\n",
            "|[1.0,0.0,86821.44...|106661.51| 96991.58058337595|\n",
            "|[1.0,0.0,129156.3...| 79940.98| 72267.36212330495|\n",
            "|[1.0,0.0,138671.8...|202443.83| 196031.2280264749|\n",
            "|[1.0,0.0,146851.5...|135552.37|138556.85836179502|\n",
            "+--------------------+---------+------------------+\n",
            "\n"
          ],
          "name": "stdout"
        }
      ]
    },
    {
      "cell_type": "code",
      "metadata": {
        "id": "yb8bZ_b9mfvu",
        "outputId": "8aaa079b-889c-44dc-c1d3-eb9997ab8c4a",
        "colab": {
          "base_uri": "https://localhost:8080/",
          "height": 35
        }
      },
      "source": [
        "#Find out coefficient value\n",
        "coefficient = model.coefficients\n",
        "print (\"The coefficients of the model are : %a\" %coefficient)"
      ],
      "execution_count": 32,
      "outputs": [
        {
          "output_type": "stream",
          "text": [
            "The coefficients of the model are : DenseVector([-1481.8266, 4221.882, 0.0465, 0.7661, 0.0195])\n"
          ],
          "name": "stdout"
        }
      ]
    },
    {
      "cell_type": "code",
      "metadata": {
        "id": "SShF7VKFmlvH",
        "outputId": "a8df4fa4-5636-47af-c979-c83f394136ea",
        "colab": {
          "base_uri": "https://localhost:8080/",
          "height": 35
        }
      },
      "source": [
        "#Find out intercept Value\n",
        "intercept = model.intercept\n",
        "print (\"The Intercept of the model is : %f\" %intercept)"
      ],
      "execution_count": 33,
      "outputs": [
        {
          "output_type": "stream",
          "text": [
            "The Intercept of the model is : 53438.597281\n"
          ],
          "name": "stdout"
        }
      ]
    },
    {
      "cell_type": "code",
      "metadata": {
        "id": "j8UPgSX5moPB",
        "outputId": "a9471f14-f056-40be-a9ba-9b466aac978b",
        "colab": {
          "base_uri": "https://localhost:8080/",
          "height": 35
        }
      },
      "source": [
        "#Evaluate the model using metric like Mean Absolute Error(MAE), Root Mean Square Error(RMSE) and R-Square\n",
        "from pyspark.ml.evaluation import RegressionEvaluator\n",
        "evaluation = RegressionEvaluator(labelCol=\"Profit\", predictionCol=\"prediction\")\n",
        "\n",
        "# r2 - coefficient of determination\n",
        "r2 = evaluation.evaluate(pred.predictions, {evaluation.metricName: \"r2\"})\n",
        "print(\"r2: %.3f\" %r2)"
      ],
      "execution_count": 34,
      "outputs": [
        {
          "output_type": "stream",
          "text": [
            "r2: 0.920\n"
          ],
          "name": "stdout"
        }
      ]
    },
    {
      "cell_type": "code",
      "metadata": {
        "id": "LJ5w10v0mrNj"
      },
      "source": [
        "\n",
        "#Create Unlabeled dataset  to contain only feature column\n",
        "unlabeled_dataset = test_dataset.select('features')"
      ],
      "execution_count": 35,
      "outputs": []
    },
    {
      "cell_type": "code",
      "metadata": {
        "id": "bK9R5d6cmurR",
        "outputId": "88ae91bf-21d1-4d7a-83dc-b60a39efbdd4",
        "colab": {
          "base_uri": "https://localhost:8080/",
          "height": 435
        }
      },
      "source": [
        "#Display the content of unlabeled_dataset\n",
        "unlabeled_dataset.show()"
      ],
      "execution_count": 36,
      "outputs": [
        {
          "output_type": "stream",
          "text": [
            "+--------------------+\n",
            "|            features|\n",
            "+--------------------+\n",
            "|[0.0,0.0,102919.5...|\n",
            "|[0.0,0.0,107525.0...|\n",
            "|[0.0,0.0,112368.1...|\n",
            "|[0.0,0.0,115949.7...|\n",
            "|[0.0,0.0,117415.2...|\n",
            "|[0.0,0.0,145909.9...|\n",
            "|[0.0,1.0,93564.61...|\n",
            "|[0.0,1.0,97963.63...|\n",
            "|[0.0,1.0,110453.1...|\n",
            "|[0.0,1.0,118757.8...|\n",
            "|[0.0,1.0,130993.6...|\n",
            "|[0.0,1.0,137200.9...|\n",
            "|[0.0,1.0,156580.1...|\n",
            "|[1.0,0.0,67721.93...|\n",
            "|[1.0,0.0,86821.44...|\n",
            "|[1.0,0.0,129156.3...|\n",
            "|[1.0,0.0,138671.8...|\n",
            "|[1.0,0.0,146851.5...|\n",
            "+--------------------+\n",
            "\n"
          ],
          "name": "stdout"
        }
      ]
    },
    {
      "cell_type": "code",
      "metadata": {
        "id": "Db-JPqQEmxxk"
      },
      "source": [
        "\n",
        "#Predict the model output for fresh & unseen test data using transform() method\n",
        "new_predictions = model.transform(unlabeled_dataset)"
      ],
      "execution_count": 37,
      "outputs": []
    },
    {
      "cell_type": "code",
      "metadata": {
        "id": "4gRvlufcm3-0",
        "outputId": "305c6073-3e8e-4825-9878-198fbbbf59dc",
        "colab": {
          "base_uri": "https://localhost:8080/",
          "height": 435
        }
      },
      "source": [
        "\n",
        "#Display the new prediction values\n",
        "new_predictions.show()"
      ],
      "execution_count": 38,
      "outputs": [
        {
          "output_type": "stream",
          "text": [
            "+--------------------+------------------+\n",
            "|            features|        prediction|\n",
            "+--------------------+------------------+\n",
            "|[0.0,0.0,102919.5...|185478.87038877717|\n",
            "|[0.0,0.0,107525.0...|117861.96290486341|\n",
            "|[0.0,0.0,112368.1...|142948.79197064997|\n",
            "|[0.0,0.0,115949.7...|136613.98396612404|\n",
            "|[0.0,0.0,117415.2...|109904.44885051208|\n",
            "|[0.0,0.0,145909.9...|122284.82732185622|\n",
            "|[0.0,1.0,93564.61...|145747.01587615997|\n",
            "|[0.0,1.0,97963.63...| 84949.71733255673|\n",
            "|[0.0,1.0,110453.1...| 164974.6010750897|\n",
            "|[0.0,1.0,118757.8...| 65796.52742732184|\n",
            "|[0.0,1.0,130993.6...|114961.48567158589|\n",
            "|[0.0,1.0,137200.9...| 65772.04092446556|\n",
            "|[0.0,1.0,156580.1...| 84218.09304114265|\n",
            "|[1.0,0.0,67721.93...| 75953.40010224747|\n",
            "|[1.0,0.0,86821.44...| 96991.58058337595|\n",
            "|[1.0,0.0,129156.3...| 72267.36212330495|\n",
            "|[1.0,0.0,138671.8...| 196031.2280264749|\n",
            "|[1.0,0.0,146851.5...|138556.85836179502|\n",
            "+--------------------+------------------+\n",
            "\n"
          ],
          "name": "stdout"
        }
      ]
    },
    {
      "cell_type": "code",
      "metadata": {
        "id": "AjRtr4o8m6ob"
      },
      "source": [
        ""
      ],
      "execution_count": null,
      "outputs": []
    }
  ]
}